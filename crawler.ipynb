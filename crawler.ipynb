{
 "cells": [
  {
   "cell_type": "code",
   "execution_count": 167,
   "metadata": {
    "collapsed": false,
    "scrolled": true
   },
   "outputs": [
    {
     "name": "stdout",
     "output_type": "stream",
     "text": [
      "ebkdGv.png\n"
     ]
    }
   ],
   "source": [
    "import requests\n",
    "import shutil\n",
    "import re\n",
    "\n",
    "from bs4 import BeautifulSoup\n",
    "\n",
    "rs = requests.session()\n",
    "res = rs.get('https://gcis.nat.gov.tw/pub/cmpy/cmpyInfoListAction.do', verify=False)\n",
    "soup = BeautifulSoup(res.text, 'html.parser')\n",
    "#print res.text\n",
    "pictureName = soup.findAll('img')[-1]['src'][-10:]\n",
    "\n",
    "res = rs.get('https://gcis.nat.gov.tw/pub/codeimage/' + pictureName, stream=True, verify=False)\n",
    "f = open('check.png', 'wb')\n",
    "shutil.copyfileobj(res.raw, f)\n",
    "f.close()\n",
    "print pictureName\n"
   ]
  },
  {
   "cell_type": "code",
   "execution_count": 168,
   "metadata": {
    "collapsed": false
   },
   "outputs": [
    {
     "data": {
      "image/png": "[encoded data removed]",
      "text/plain": [
       "<IPython.core.display.Image object>"
      ]
     },
     "execution_count": 168,
     "metadata": {},
     "output_type": "execute_result"
    }
   ],
   "source": [
    "from IPython.display import Image\n",
    "\n",
    "Image('check.png')"
   ]
  },
  {
   "cell_type": "code",
   "execution_count": 171,
   "metadata": {
    "collapsed": false,
    "scrolled": true
   },
   "outputs": [
    {
     "name": "stdout",
     "output_type": "stream",
     "text": [
      "<!DOCTYPE HTML PUBLIC \"-//W3C//DTD HTML 4.01 Transitional//EN\"\n",
      "    \"http://www.w3.org/TR/html4/loose.dtd\">\n",
      "<html>\n",
      "<head>\n",
      "    <meta http-equiv=\"Refresh\" content=\"10;url=http://gcis.nat.gov.tw/main/classAction.do?method=list&pkGcisClass=8; text/html; charset=big5\">\n",
      "    <title>商工登記資料公示查詢系統</title>\n",
      "    <script type='text/javascript'>\n",
      "        <!--\n",
      "        setTimeout('countdown()', 1000);\n",
      "        function countdown() {\n",
      "            var s = document.getElementById('timer');\n",
      "            s.innerHTML = s.innerHTML - 1;\n",
      "            if (s.innerHTML == 0) {\n",
      "                window.location = 'http://gcis.nat.gov.tw/main/classAction.do?method=list&pkGcisClass=8';\n",
      "            } else {\n",
      "                setTimeout('countdown()', 1000);\n",
      "            }\n",
      "        }\n",
      "\n",
      "        function submitForm(f) {\n",
      "            var isError = false;\n",
      "            if(isError){\n",
      "                return false;\n",
      "            }else{\n",
      "                return true;\n",
      "            }\n",
      "        }\n",
      "        //-->\n",
      "    </script>\n",
      "        <style type=\"text/css\">\n",
      "            <!--\n",
      "            body {\n",
      "                margin-left: 0px;\n",
      "                margin-top: 0px;\n",
      "            }\n",
      "            .red {\n",
      "                color: red;\n",
      "                font-weight: 100;\n",
      "            }\n",
      "            .button {\n",
      "                background-color: #FFFFCB;\n",
      "                border: 1px solid #01519A;\n",
      "                color: #343131;\n",
      "                font-size:18px;\n",
      "                padding-top: 4px;\n",
      "            }\n",
      "            .FONTA01 {\n",
      "                font-family: \"新細明體\";\n",
      "                font-size: 13px;\n",
      "                color: #666666;\n",
      "                line-height: 20px;\n",
      "            }\n",
      "            .FONTA02 {\n",
      "                font-family: \"新細明體\";\n",
      "                font-size: 15px;\n",
      "                color: #000000;\n",
      "                font-weight: bold;\n",
      "                line-height: 25px;\n",
      "            }\n",
      "            -->\n",
      "        </style>\n",
      "</head>\n",
      "<body>\n",
      "<div><br /><br /></div>\n",
      "<div align=\"center\">\n",
      "<form name=\"form1\" method=\"post\" action=\"http://gcis.nat.gov.tw/main/classAction.do?method=list&pkGcisClass=8\" onsubmit=\"return submitForm(this)\">\n",
      "<table border=\"0\" width=\"450\">\n",
      "<tr>\n",
      "  <td align=\"center\" bgcolor=\"#DFF5FF\">\n",
      "  <p class=\"FONTA02\">《全國商工行政服務入口網》舊站已於100年12月1日關閉，</p>\n",
      "  <p class=\"FONTA02\">系統將於 <span id='timer'>10</span> 秒後，為您自動轉跳新站。</p>\n",
      "  <p class=\"FONTA02\">或按下列按鈕</p>\n",
      "  <p><input type=\"submit\" name=\"search\" value=\"造訪商工登記資料公示查詢系統\" class=\"button\" size=\"15\"></p>\n",
      "  </td>\n",
      "</tr>\n",
      "</table>\n",
      "</form>\n",
      "</div>\n",
      "</body>\n",
      "</html>\n",
      "\n"
     ]
    }
   ],
   "source": [
    "payload = {\n",
    "    'method':'query',\n",
    "    'otherEnterFlag':'false',\n",
    "    'useEUC':'N',\n",
    "    'isShowEUC':'Y',\n",
    "    'queryKey':'',\n",
    "    'selCmpyType' : '1',\n",
    "    'selQueryType':'1',\n",
    "    'queryStr':'統一超商',\n",
    "    'brBanNo':'',\n",
    "    'imageCode':'3sve',\n",
    "    'imageFileName':pictureName\n",
    "}\n",
    "\n",
    "#res = rs.post('https://gcis.nat.gov.tw/pub/cmpy/cmpyInfoListAction.do', data=payload, verify=False)\n",
    "res = rs.post('https://gcis.nat.gov.tw/pub/cmpy/cmpyInfoListAction.do', data=payload, verify=False)\n",
    "res.encoding = 'big5'\n",
    "print res.text"
   ]
  },
  {
   "cell_type": "code",
   "execution_count": 133,
   "metadata": {
    "collapsed": false,
    "scrolled": true
   },
   "outputs": [
    {
     "name": "stdout",
     "output_type": "stream",
     "text": [
      "<!DOCTYPE HTML PUBLIC \"-//W3C//DTD HTML 4.01 Transitional//EN\"\n",
      "    \"http://www.w3.org/TR/html4/loose.dtd\">\n",
      "<html>\n",
      "<head>\n",
      "    <meta http-equiv=\"Refresh\" content=\"10;url=http://gcis.nat.gov.tw/main/classAction.do?method=list&pkGcisClass=8; text/html; charset=big5\">\n",
      "    <title>°Ó¤uµn°O¸ê®Æ¤½¥Ü¬d¸ß¨t²Î</title>\n",
      "    <script type='text/javascript'>\n",
      "        <!--\n",
      "        setTimeout('countdown()', 1000);\n",
      "        function countdown() {\n",
      "            var s = document.getElementById('timer');\n",
      "            s.innerHTML = s.innerHTML - 1;\n",
      "            if (s.innerHTML == 0) {\n",
      "                window.location = 'http://gcis.nat.gov.tw/main/classAction.do?method=list&pkGcisClass=8';\n",
      "            } else {\n",
      "                setTimeout('countdown()', 1000);\n",
      "            }\n",
      "        }\n",
      "\n",
      "        function submitForm(f) {\n",
      "            var isError = false;\n",
      "            if(isError){\n",
      "                return false;\n",
      "            }else{\n",
      "                return true;\n",
      "            }\n",
      "        }\n",
      "        //-->\n",
      "    </script>\n",
      "        <style type=\"text/css\">\n",
      "            <!--\n",
      "            body {\n",
      "                margin-left: 0px;\n",
      "                margin-top: 0px;\n",
      "            }\n",
      "            .red {\n",
      "                color: red;\n",
      "                font-weight: 100;\n",
      "            }\n",
      "            .button {\n",
      "                background-color: #FFFFCB;\n",
      "                border: 1px solid #01519A;\n",
      "                color: #343131;\n",
      "                font-size:18px;\n",
      "                padding-top: 4px;\n",
      "            }\n",
      "            .FONTA01 {\n",
      "                font-family: \"·s²Ó©úÅé\";\n",
      "                font-size: 13px;\n",
      "                color: #666666;\n",
      "                line-height: 20px;\n",
      "            }\n",
      "            .FONTA02 {\n",
      "                font-family: \"·s²Ó©úÅé\";\n",
      "                font-size: 15px;\n",
      "                color: #000000;\n",
      "                font-weight: bold;\n",
      "                line-height: 25px;\n",
      "            }\n",
      "            -->\n",
      "        </style>\n",
      "</head>\n",
      "<body>\n",
      "<div><br /><br /></div>\n",
      "<div align=\"center\">\n",
      "<form name=\"form1\" method=\"post\" action=\"http://gcis.nat.gov.tw/main/classAction.do?method=list&pkGcisClass=8\" onsubmit=\"return submitForm(this)\">\n",
      "<table border=\"0\" width=\"450\">\n",
      "<tr>\n",
      "  <td align=\"center\" bgcolor=\"#DFF5FF\">\n",
      "  <p class=\"FONTA02\">¡m¥þ°ê°Ó¤u¦æ¬FªA°È¤J¤fºô¡nÂÂ¯¸¤w©ó100¦~12¤ë1¤éÃö³¬¡A</p>\n",
      "  <p class=\"FONTA02\">¨t²Î±N©ó <span id='timer'>10</span> ¬í«á¡A¬°±z¦Û°ÊÂà¸õ·s¯¸¡C</p>\n",
      "  <p class=\"FONTA02\">©Î«ö¤U¦C«ö¶s</p>\n",
      "  <p><input type=\"submit\" name=\"search\" value=\"³y³X°Ó¤uµn°O¸ê®Æ¤½¥Ü¬d¸ß¨t²Î\" class=\"button\" size=\"15\"></p>\n",
      "  </td>\n",
      "</tr>\n",
      "</table>\n",
      "</form>\n",
      "</div>\n",
      "</body>\n",
      "</html>\n",
      "\n"
     ]
    }
   ],
   "source": [
    "payload = {\n",
    "    'method':'query',\n",
    "    'banNo': '22555003',\n",
    "    'from':''\n",
    "}\n",
    "\n",
    "res = rs.get('http://gcis.nat.gov.tw/pub/cmpy/branInfoListAction.do', params=payload)\n",
    "print res.text"
   ]
  }
 ],
 "metadata": {
  "kernelspec": {
   "display_name": "Python 2",
   "language": "python",
   "name": "python2"
  },
  "language_info": {
   "codemirror_mode": {
    "name": "ipython",
    "version": 2
   },
   "file_extension": ".py",
   "mimetype": "text/x-python",
   "name": "python",
   "nbconvert_exporter": "python",
   "pygments_lexer": "ipython2",
   "version": "2.7.8"
  }
 },
 "nbformat": 4,
 "nbformat_minor": 0
}
