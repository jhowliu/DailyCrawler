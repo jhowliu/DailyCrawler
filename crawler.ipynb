{
 "cells": [
  {
   "cell_type": "code",
   "execution_count": null,
   "metadata": {
    "collapsed": true
   },
   "outputs": [],
   "source": [
    "import requests\n",
    "import shutil\n",
    "import re\n",
    "\n",
    "from bs4 import BeautifulSoup\n",
    "\n",
    "rs = requests.session()\n",
    "res = rs.get('http://gcis.nat.gov.tw/gps/gpsInit/GpsInit/query.do')\n",
    "soup = BeautifulSoup(res.text, 'html.parser')\n",
    "\n",
    "\n",
    "# Get name of keyword's image\n",
    "imagename = soup.findAll('input')[8]['value']\n",
    "soup.findAll('input')[8].encode('utf8')\n",
    "print imagename\n",
    "\n",
    "# Get tokenID\n",
    "token = soup.findAll('input')[-2]['value'].encode('utf8')\n",
    "print token\n",
    "\n",
    "# Fetch the keyword's image and store as check.png\n",
    "res = rs.get('http://gcis.nat.gov.tw/gps/gps/codeimage/%s' %(imagename), stream=True)\n",
    "f = open('check.png', 'wb')\n",
    "shutil.copyfileobj(res.raw, f)\n",
    "f.close()\n",
    "\n",
    "from pyocr import tesseract as tool\n",
    "from PIL import Image\n",
    "\n",
    "# Recognize \n",
    "imagecode = tool.image_to_string(\n",
    "    Image.open('check.png'),\n",
    "    builder=pyocr.builders.TextBuilder()\n",
    ")\n",
    "print \"Result : %s\" % imagecode\n",
    "\n",
    "payload = {\n",
    "    'selCmpyType':1,\n",
    "    'selQueryType':1,\n",
    "    'queryData':'統一超商',\n",
    "    'imageCode':imagecode,\n",
    "    'imageFileName':imagename,\n",
    "    'otherEnterFlag':'false',\n",
    "    'useEUC':'N',\n",
    "    'isShowEUC':'Y',\n",
    "    'firstPage':0,\n",
    "    'previousPage':0,\n",
    "    'nextPage':0,\n",
    "    'lastPage':0,\n",
    "    'struts.token.name':'struts.token',\n",
    "    'struts.token':token\n",
    "}\n",
    "\n",
    "print payload\n",
    "\n",
    "res = rs.post('http://gcis.nat.gov.tw/gps/gpsInit/GpsInit/query.do', data=payload)\n",
    "\n",
    "print res.text"
   ]
  }
 ],
 "metadata": {
  "kernelspec": {
   "display_name": "Python 2",
   "language": "python",
   "name": "python2"
  },
  "language_info": {
   "codemirror_mode": {
    "name": "ipython",
    "version": 2
   },
   "file_extension": ".py",
   "mimetype": "text/x-python",
   "name": "python",
   "nbconvert_exporter": "python",
   "pygments_lexer": "ipython2",
   "version": "2.7.8"
  }
 },
 "nbformat": 4,
 "nbformat_minor": 0
}
